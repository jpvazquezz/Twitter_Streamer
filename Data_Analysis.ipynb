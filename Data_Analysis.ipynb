{
 "cells": [
  {
   "cell_type": "markdown",
   "metadata": {},
   "source": [
    "# Twitter Streamer Data Analysis - First 2020 US Presidential Election Debate"
   ]
  },
  {
   "cell_type": "markdown",
   "metadata": {},
   "source": [
    "### This notebook intents to analyse the data extracted from the Twitter API as a result of the streamer created to collect the tweets. \n",
    "\n",
    "The main theme of the tweets was the first 2020 United States presidential election debate between Republican president Donald Trump and Democratic nominee and former Vice President Joe Biden. The tweets were generated and collected in real time, from between 8:30-10:30 pm Eastern Time.\n",
    "\n",
    "![](https://www.aljazeera.com/wp-content/uploads/2020/09/2020-09-30T011831Z_351732615_RC2P8J92Y3A2_RTRMADP_3_USA-ELECTION-DEBATE.jpg?resize=770%2C513)\n"
   ]
  },
  {
   "cell_type": "markdown",
   "metadata": {},
   "source": [
    "### **Setup**"
   ]
  },
  {
   "cell_type": "code",
   "execution_count": 1,
   "metadata": {},
   "outputs": [
    {
     "data": {
      "text/html": [
       "\n",
       "<style>\n",
       ".output_png {\n",
       "    display: table-cell;\n",
       "    text-align: center;\n",
       "    vertical-align: middle;\n",
       "}\n",
       "</style>\n"
      ],
      "text/plain": [
       "<IPython.core.display.HTML object>"
      ]
     },
     "execution_count": 1,
     "metadata": {},
     "output_type": "execute_result"
    }
   ],
   "source": [
    "import numpy as np\n",
    "import pandas as pd\n",
    "import seaborn as sns\n",
    "import matplotlib.pyplot as plt\n",
    "from datetime import datetime\n",
    "from sklearn.feature_extraction.text import TfidfVectorizer, CountVectorizer\n",
    "from sklearn.preprocessing import Normalizer\n",
    "from IPython.core.display import HTML\n",
    "HTML(\"\"\"\n",
    "<style>\n",
    ".output_png {\n",
    "    display: table-cell;\n",
    "    text-align: center;\n",
    "    vertical-align: middle;\n",
    "}\n",
    "</style>\n",
    "\"\"\")"
   ]
  },
  {
   "cell_type": "code",
   "execution_count": 2,
   "metadata": {},
   "outputs": [],
   "source": [
    "tweets = pd.read_csv('tweets.csv')"
   ]
  },
  {
   "cell_type": "markdown",
   "metadata": {},
   "source": [
    "### Overview"
   ]
  },
  {
   "cell_type": "code",
   "execution_count": 3,
   "metadata": {
    "scrolled": true
   },
   "outputs": [
    {
     "data": {
      "text/plain": [
       "(57036, 11)"
      ]
     },
     "execution_count": 3,
     "metadata": {},
     "output_type": "execute_result"
    }
   ],
   "source": [
    "# Number of rows and columns, respectively\n",
    "tweets.shape"
   ]
  },
  {
   "cell_type": "code",
   "execution_count": 4,
   "metadata": {},
   "outputs": [
    {
     "data": {
      "text/plain": [
       "Index(['id', 'id_str', 'user_name', 'user_description', 'user_location',\n",
       "       'user_created', 'favorite_count', 'retweet_count', 'text', 'polarity',\n",
       "       'subjectivy'],\n",
       "      dtype='object')"
      ]
     },
     "execution_count": 4,
     "metadata": {},
     "output_type": "execute_result"
    }
   ],
   "source": [
    "# All columns\n",
    "tweets.columns"
   ]
  },
  {
   "cell_type": "markdown",
   "metadata": {},
   "source": [
    "Below, I created a function to generate a new column to help identify which tweets mention which candidate."
   ]
  },
  {
   "cell_type": "code",
   "execution_count": 6,
   "metadata": {},
   "outputs": [],
   "source": [
    "def get_candidate(row):\n",
    "    candidates = []\n",
    "    text = row.lower()\n",
    "    if ('trump' in text) and ('biden' in text):\n",
    "        candidates.append(\"trump/biden\")\n",
    "    elif (\"donald\" in text) or ('trump' in text):\n",
    "        candidates.append(\"trump\")\n",
    "    elif ('joe' in text) or ('biden' in text):\n",
    "        candidates.append(\"biden\")\n",
    "    return \",\".join(candidates)\n",
    "    "
   ]
  },
  {
   "cell_type": "code",
   "execution_count": 7,
   "metadata": {},
   "outputs": [],
   "source": [
    "tweets['candidates'] = tweets['text'].apply(get_candidate)"
   ]
  },
  {
   "cell_type": "code",
   "execution_count": 8,
   "metadata": {
    "scrolled": true
   },
   "outputs": [
    {
     "data": {
      "text/plain": [
       "trump          25505\n",
       "biden          13271\n",
       "trump/biden     9858\n",
       "                8402\n",
       "Name: candidates, dtype: int64"
      ]
     },
     "execution_count": 8,
     "metadata": {},
     "output_type": "execute_result"
    }
   ],
   "source": [
    "tweets['candidates'].value_counts()"
   ]
  },
  {
   "cell_type": "markdown",
   "metadata": {},
   "source": [
    "We can see that 8402 tweets were extracted even though they did not included the keywords selected and inputed into the Twitter streamer. By checking some of these tweets, this might be explained because the streamer collected the comment of a retweet that did not mention the keyword or collected some replies in a thread that envolved a political discussion that included the keyword.\n",
    "\n",
    "Anyways, it is more reasonable to excluded these tweets once they don't aggregate to the analysis."
   ]
  },
  {
   "cell_type": "code",
   "execution_count": 9,
   "metadata": {},
   "outputs": [
    {
     "data": {
      "text/plain": [
       "3        Change the debate host, the questions, remove his ear piece and get a drug test. Otherwise we are just being played… https://t.co/inpVFM...\n",
       "5                                                                Can we take this as a resignation letter? That's wonderful! https://t.co/HzwONEtmJA\n",
       "7                                                                                      Wikileaks Podesta emails  discussed the plan for Russia hoax.\n",
       "8        @nowalkietalkies @ScottKBiz @SethGreen Or in 1970 on whom in the Democratic Party wanted the NVA and Viet Cong to w… https://t.co/WzQ12q...\n",
       "12                                                                                   Tick tock @HillaryClinton \\n🔥🔥🔥🔥🔥🔥🔥🔥🔥🔥🔥 https://t.co/Rd9pQ17QYh\n",
       "                                                                            ...                                                                     \n",
       "57023                                                                                       Thank you for pointing out one of many people we’ve lost\n",
       "57026    Fiscal mismanagement of cities/states should not be the responsibility of Federal taxpayers to bailout! Local resid… https://t.co/rHZ7jw...\n",
       "57028                                                                                                                                      Truth...!\n",
       "57030                                                                                                                                   thanks ninja\n",
       "57031                                                                                                                                           ????\n",
       "Name: text, Length: 8402, dtype: object"
      ]
     },
     "execution_count": 9,
     "metadata": {},
     "output_type": "execute_result"
    }
   ],
   "source": [
    "pd.options.display.max_colwidth = 140\n",
    "\n",
    "tweets[tweets['candidates']=='']['text']"
   ]
  },
  {
   "cell_type": "code",
   "execution_count": 30,
   "metadata": {},
   "outputs": [],
   "source": [
    "# Droping the tweets that did not mention the candidates\n",
    "tweets.drop(tweets[tweets['candidates']==''].index,inplace=True)"
   ]
  },
  {
   "cell_type": "markdown",
   "metadata": {},
   "source": [
    "### Data Visualization"
   ]
  },
  {
   "cell_type": "code",
   "execution_count": 11,
   "metadata": {},
   "outputs": [
    {
     "data": {
      "image/png": "[encoded data removed]",
      "text/plain": [
       "<Figure size 432x288 with 1 Axes>"
      ]
     },
     "metadata": {
      "needs_background": "light"
     },
     "output_type": "display_data"
    }
   ],
   "source": [
    "sns.countplot(tweets['candidates'],order=tweets['candidates'].value_counts().index);\n",
    "plt.title('Tweet count per candidate');"
   ]
  },
  {
   "cell_type": "markdown",
   "metadata": {},
   "source": [
    "The above countplot shows a very notable aspect of candidate Trump as a political figure. As it's known, Trump has a very strong digital political followers base, a result of its reliance upon social media to build his support, a chracteristic shown by the chart."
   ]
  },
  {
   "cell_type": "code",
   "execution_count": 13,
   "metadata": {},
   "outputs": [
    {
     "data": {
      "image/png": "[encoded data removed]",
      "text/plain": [
       "<Figure size 432x288 with 1 Axes>"
      ]
     },
     "metadata": {
      "needs_background": "light"
     },
     "output_type": "display_data"
    }
   ],
   "source": [
    "sns.barplot(x=tweets.user_location.value_counts().head(10).index,y=tweets.user_location.value_counts().head(10));\n",
    "plt.title('Tweet count by location')\n",
    "plt.xticks(rotation=45);\n",
    "plt.ylabel('Count');"
   ]
  },
  {
   "cell_type": "markdown",
   "metadata": {},
   "source": [
    "Here, we observe where most tweets come from. As imagined, most tweets are from USA itself, especially the cities of Los Angeles, Washington DC and New York. The identification of the location dependends, of course, on the users because many Twitter users do not exactly utilize the location spot correctly to identidy where they live as seen by the \"she/her\" in the chart or even those who only signalize their country as case of \"USA\" in fourth place in the chart."
   ]
  },
  {
   "cell_type": "code",
   "execution_count": 14,
   "metadata": {
    "scrolled": true
   },
   "outputs": [
    {
     "name": "stderr",
     "output_type": "stream",
     "text": [
      "C:\\Users\\Dell\\anaconda3\\lib\\site-packages\\ipykernel_launcher.py:1: FutureWarning: Indexing with multiple keys (implicitly converted to a tuple of keys) will be deprecated, use a list instead.\n",
      "  \"\"\"Entry point for launching an IPython kernel.\n"
     ]
    },
    {
     "data": {
      "text/html": [
       "<div>\n",
       "<style scoped>\n",
       "    .dataframe tbody tr th:only-of-type {\n",
       "        vertical-align: middle;\n",
       "    }\n",
       "\n",
       "    .dataframe tbody tr th {\n",
       "        vertical-align: top;\n",
       "    }\n",
       "\n",
       "    .dataframe thead tr th {\n",
       "        text-align: left;\n",
       "    }\n",
       "\n",
       "    .dataframe thead tr:last-of-type th {\n",
       "        text-align: right;\n",
       "    }\n",
       "</style>\n",
       "<table border=\"1\" class=\"dataframe\">\n",
       "  <thead>\n",
       "    <tr>\n",
       "      <th></th>\n",
       "      <th colspan=\"2\" halign=\"left\">polarity</th>\n",
       "      <th colspan=\"2\" halign=\"left\">subjectivy</th>\n",
       "    </tr>\n",
       "    <tr>\n",
       "      <th></th>\n",
       "      <th>mean</th>\n",
       "      <th>std</th>\n",
       "      <th>mean</th>\n",
       "      <th>std</th>\n",
       "    </tr>\n",
       "    <tr>\n",
       "      <th>candidates</th>\n",
       "      <th></th>\n",
       "      <th></th>\n",
       "      <th></th>\n",
       "      <th></th>\n",
       "    </tr>\n",
       "  </thead>\n",
       "  <tbody>\n",
       "    <tr>\n",
       "      <th>biden</th>\n",
       "      <td>0.019572</td>\n",
       "      <td>0.292628</td>\n",
       "      <td>0.284251</td>\n",
       "      <td>0.333612</td>\n",
       "    </tr>\n",
       "    <tr>\n",
       "      <th>trump</th>\n",
       "      <td>0.002443</td>\n",
       "      <td>0.296356</td>\n",
       "      <td>0.304710</td>\n",
       "      <td>0.338654</td>\n",
       "    </tr>\n",
       "    <tr>\n",
       "      <th>trump/biden</th>\n",
       "      <td>0.015927</td>\n",
       "      <td>0.292213</td>\n",
       "      <td>0.300569</td>\n",
       "      <td>0.333895</td>\n",
       "    </tr>\n",
       "  </tbody>\n",
       "</table>\n",
       "</div>"
      ],
      "text/plain": [
       "             polarity           subjectivy          \n",
       "                 mean       std       mean       std\n",
       "candidates                                          \n",
       "biden        0.019572  0.292628   0.284251  0.333612\n",
       "trump        0.002443  0.296356   0.304710  0.338654\n",
       "trump/biden  0.015927  0.292213   0.300569  0.333895"
      ]
     },
     "execution_count": 14,
     "metadata": {},
     "output_type": "execute_result"
    }
   ],
   "source": [
    "n = tweets.groupby(\"candidates\")['polarity','subjectivy'].agg([np.mean, np.std])\n",
    "n"
   ]
  },
  {
   "cell_type": "code",
   "execution_count": 15,
   "metadata": {},
   "outputs": [
    {
     "data": {
      "image/png": "[encoded data removed]",
      "text/plain": [
       "<Figure size 360x360 with 2 Axes>"
      ]
     },
     "metadata": {
      "needs_background": "light"
     },
     "output_type": "display_data"
    }
   ],
   "source": [
    "ps = tweets.groupby(\"candidates\").agg([np.mean, np.std])\n",
    "\n",
    "fig, axes = plt.subplots(nrows=2, ncols=1, figsize=(5, 5))\n",
    "ax0, ax1 = axes.flat\n",
    "\n",
    "std = ps[\"polarity\"][\"std\"]\n",
    "mean = ps[\"polarity\"][\"mean\"]\n",
    "\n",
    "ax0.bar(mean.index.to_list(), mean)\n",
    "ax0.set_title('Mean tweet polarity')\n",
    "\n",
    "ax1.bar(std.index, std)\n",
    "ax1.set_title('Standard deviation of tweet polarity')\n",
    "\n",
    "\n",
    "plt.tight_layout()\n",
    "plt.show()"
   ]
  },
  {
   "cell_type": "markdown",
   "metadata": {},
   "source": [
    "I used the library `Text Blob` to realize the sentiment analysis of the tweets by measuring the polarity and the subjectivity of them. Polarity is the negativity or positivity of the tweet, on a -1 to 1 scale. Subjectivity is how objective or subjective the tweet is as 0 means that the tweet is very objective, and 1 means that it is very subjective. \n",
    "\n",
    "The result was not that expressive since the mean polarity of both candidates were below 0.1 and the standard deviations were around 0.3 on average. This indicates that we'd require other tools to realize a sentiment analysis that really present a more insightful conclusion."
   ]
  },
  {
   "cell_type": "code",
   "execution_count": 16,
   "metadata": {},
   "outputs": [
    {
     "data": {
      "image/png": "[encoded data removed]",
      "text/plain": [
       "<Figure size 360x360 with 2 Axes>"
      ]
     },
     "metadata": {
      "needs_background": "light"
     },
     "output_type": "display_data"
    }
   ],
   "source": [
    "fig, axes = plt.subplots(nrows=2, ncols=1, figsize=(5, 5))\n",
    "ax0, ax1 = axes.flat\n",
    "\n",
    "std_s = ps[\"subjectivy\"][\"std\"]\n",
    "mean_s = ps[\"subjectivy\"][\"mean\"]\n",
    "\n",
    "ax0.bar(mean_s.index, mean_s)\n",
    "ax0.set_title('Mean tweet subjectivy')\n",
    "\n",
    "ax1.bar(std_s.index, std_s)\n",
    "ax1.set_title('Standard deviation of tweet subjectivy')\n",
    "\n",
    "\n",
    "plt.tight_layout()\n",
    "plt.show()"
   ]
  },
  {
   "cell_type": "markdown",
   "metadata": {},
   "source": [
    "In the other hand, we got a slightly different result in terms of subjectivy. We are able to see that the mean subjectivity for all the possible tweet alternative is 0.3 on average, what indicates the many tweets have a subjected weight as a result of the political option of the users. \n",
    "\n",
    "It is important to stress that the subjectity metric, like the polarity, has shortages in terms of analytic capacities, which also reinforces the need to apply other analysis tools."
   ]
  },
  {
   "cell_type": "code",
   "execution_count": 17,
   "metadata": {},
   "outputs": [],
   "source": [
    "def tweet_lenght(text):\n",
    "    if len(text) <50:\n",
    "        return \"short\"\n",
    "    elif 50 <= len(text) <= 100:\n",
    "        return 'medium'\n",
    "    else:\n",
    "        return 'long'\n",
    "\n",
    "tweets['tweet_length'] = tweets['text'].apply(tweet_lenght)"
   ]
  },
  {
   "cell_type": "code",
   "execution_count": 18,
   "metadata": {},
   "outputs": [
    {
     "data": {
      "image/png": "[encoded data removed]",
      "text/plain": [
       "<Figure size 432x288 with 1 Axes>"
      ]
     },
     "metadata": {
      "needs_background": "light"
     },
     "output_type": "display_data"
    }
   ],
   "source": [
    "sns.barplot(y=tweets['tweet_length'].value_counts(),x=tweets['tweet_length'].unique()).set_title('Tweets count by length');"
   ]
  },
  {
   "cell_type": "markdown",
   "metadata": {},
   "source": [
    "The majority of the extracteed tweets have medium and long legths. This points out that the political debate around the candidates generally envolves the formulation of slightly more extemsive opinions in terms of Twitter engagement. Now, let see how each candidate is related to the tweets' length."
   ]
  },
  {
   "cell_type": "code",
   "execution_count": 19,
   "metadata": {},
   "outputs": [
    {
     "data": {
      "image/png": "[encoded data removed]",
      "text/plain": [
       "<Figure size 432x288 with 1 Axes>"
      ]
     },
     "metadata": {
      "needs_background": "light"
     },
     "output_type": "display_data"
    }
   ],
   "source": [
    "twl = {}\n",
    "for candidate in tweets['candidates'].unique():\n",
    "    twl[candidate] = tweets[\"tweet_length\"][tweets[\"candidates\"] == candidate].value_counts()\n",
    "fig,ax=plt.subplots()\n",
    "width = 0.5\n",
    "x =np.array(range(0,6,2))\n",
    "ax.bar(x, twl['trump'], width, color='b')\n",
    "ax.bar(x+width, twl['biden'], width, color='g')\n",
    "ax.bar(x + (width*2),twl['trump/biden'], width, color='r')\n",
    "\n",
    "ax.set_ylabel('Number of tweets')\n",
    "ax.set_title('Number of Tweets per candidate by length')\n",
    "ax.set_xticks(x+(width*1.5))\n",
    "ax.set_xticklabels(['long', 'medium', \"short\"])\n",
    "ax.set_xlabel('Tweet Length')\n",
    "ax.legend(['Trump','Biden', 'Trump/Biden'])\n",
    "plt.show()"
   ]
  },
  {
   "cell_type": "markdown",
   "metadata": {},
   "source": [
    "As a result of Trump's digital predomance, it is comprehesible that he is the candidate that has the highest number of tweets for all tweet length categories."
   ]
  },
  {
   "cell_type": "markdown",
   "metadata": {},
   "source": [
    "### TF-IDF\n",
    "\n",
    "Lastly, we take a look at TF-IDF to better analyse the words in the tweets. The TF-IDF (term frequency-inverse document frequency) measures how relevant a word is in a document in a collection of documents, which in our case are the tweets. This statistical measure is a result of the multiplication of the term frequency (the number of times a word appears in a document - tweet) and the inverse document frequency."
   ]
  },
  {
   "cell_type": "code",
   "execution_count": 20,
   "metadata": {},
   "outputs": [
    {
     "data": {
      "text/html": [
       "<div>\n",
       "<style scoped>\n",
       "    .dataframe tbody tr th:only-of-type {\n",
       "        vertical-align: middle;\n",
       "    }\n",
       "\n",
       "    .dataframe tbody tr th {\n",
       "        vertical-align: top;\n",
       "    }\n",
       "\n",
       "    .dataframe thead th {\n",
       "        text-align: right;\n",
       "    }\n",
       "</style>\n",
       "<table border=\"1\" class=\"dataframe\">\n",
       "  <thead>\n",
       "    <tr style=\"text-align: right;\">\n",
       "      <th></th>\n",
       "      <th>features</th>\n",
       "      <th>idf</th>\n",
       "    </tr>\n",
       "  </thead>\n",
       "  <tbody>\n",
       "    <tr>\n",
       "      <th>0</th>\n",
       "      <td>trump</td>\n",
       "      <td>1.365452</td>\n",
       "    </tr>\n",
       "    <tr>\n",
       "      <th>1</th>\n",
       "      <td>biden</td>\n",
       "      <td>1.810725</td>\n",
       "    </tr>\n",
       "    <tr>\n",
       "      <th>2</th>\n",
       "      <td>https</td>\n",
       "      <td>2.398271</td>\n",
       "    </tr>\n",
       "    <tr>\n",
       "      <th>3</th>\n",
       "      <td>joe</td>\n",
       "      <td>3.442141</td>\n",
       "    </tr>\n",
       "    <tr>\n",
       "      <th>4</th>\n",
       "      <td>debates2020</td>\n",
       "      <td>3.450212</td>\n",
       "    </tr>\n",
       "    <tr>\n",
       "      <th>5</th>\n",
       "      <td>just</td>\n",
       "      <td>3.481930</td>\n",
       "    </tr>\n",
       "    <tr>\n",
       "      <th>6</th>\n",
       "      <td>debate</td>\n",
       "      <td>3.522854</td>\n",
       "    </tr>\n",
       "    <tr>\n",
       "      <th>7</th>\n",
       "      <td>like</td>\n",
       "      <td>3.828987</td>\n",
       "    </tr>\n",
       "    <tr>\n",
       "      <th>8</th>\n",
       "      <td>wallace</td>\n",
       "      <td>3.857227</td>\n",
       "    </tr>\n",
       "    <tr>\n",
       "      <th>9</th>\n",
       "      <td>shut</td>\n",
       "      <td>4.314494</td>\n",
       "    </tr>\n",
       "    <tr>\n",
       "      <th>10</th>\n",
       "      <td>president</td>\n",
       "      <td>4.317327</td>\n",
       "    </tr>\n",
       "    <tr>\n",
       "      <th>11</th>\n",
       "      <td>chris</td>\n",
       "      <td>4.321305</td>\n",
       "    </tr>\n",
       "    <tr>\n",
       "      <th>12</th>\n",
       "      <td>realdonaldtrump</td>\n",
       "      <td>4.345514</td>\n",
       "    </tr>\n",
       "    <tr>\n",
       "      <th>13</th>\n",
       "      <td>said</td>\n",
       "      <td>4.347265</td>\n",
       "    </tr>\n",
       "    <tr>\n",
       "      <th>14</th>\n",
       "      <td>donald</td>\n",
       "      <td>4.452561</td>\n",
       "    </tr>\n",
       "  </tbody>\n",
       "</table>\n",
       "</div>"
      ],
      "text/plain": [
       "           features       idf\n",
       "0             trump  1.365452\n",
       "1             biden  1.810725\n",
       "2             https  2.398271\n",
       "3               joe  3.442141\n",
       "4       debates2020  3.450212\n",
       "5              just  3.481930\n",
       "6            debate  3.522854\n",
       "7              like  3.828987\n",
       "8           wallace  3.857227\n",
       "9              shut  4.314494\n",
       "10        president  4.317327\n",
       "11            chris  4.321305\n",
       "12  realdonaldtrump  4.345514\n",
       "13             said  4.347265\n",
       "14           donald  4.452561"
      ]
     },
     "execution_count": 20,
     "metadata": {},
     "output_type": "execute_result"
    }
   ],
   "source": [
    "tfidf_transformer = TfidfVectorizer(stop_words='english')\n",
    "tweets_tfidf = tfidf_transformer.fit_transform(tweets['text'])\n",
    "indices = np.argsort(tfidf_transformer.idf_)\n",
    "features = tfidf_transformer.get_feature_names()\n",
    "top_features = [features[i] for i in indices[:15]]\n",
    "idf =tfidf_transformer.idf_[indices]\n",
    "df_idf = pd.DataFrame(data={'features':top_features,'idf':idf[:15]})\n",
    "df_idf"
   ]
  },
  {
   "cell_type": "markdown",
   "metadata": {},
   "source": [
    "Because of tecnical limitations and memory shortage, the `tf` values could not be calculated using the sklearn's CountVerctorizer() function. However, we still able to take some insights from the idf values alone. The `idf` is a metric of rarity throughout the collection of tweets, which means that the higher the idf, the fewer are the words occurrences (what might either mean that the word carries important information or it is irrelevant to the context).\n",
    "\n",
    "In our case, besides the candidates' names and the words related to the debate themselves, we can observe that the words `cris` and `wallace` stand out. This is explainable because of the repercution of “Fox News Sunday” anchor and first-time presidential debate moderator Cris Wallace [losing control](https://nationalpost.com/news/world/a-terrible-missed-opportunity-chris-wallace-laments-losing-control-of-the-presidential-debate) over the debate."
   ]
  },
  {
   "cell_type": "markdown",
   "metadata": {},
   "source": [
    "Joao Pedro Vazquez 2020.\n",
    "\n",
    "* [LinkedIn](https://www.linkedin.com/in/joao-pedro-vazquez/)\n",
    "* [Github](https://github.com/jpvazquezz)"
   ]
  }
 ],
 "metadata": {
  "kernelspec": {
   "display_name": "Python 3",
   "language": "python",
   "name": "python3"
  },
  "language_info": {
   "codemirror_mode": {
    "name": "ipython",
    "version": 3
   },
   "file_extension": ".py",
   "mimetype": "text/x-python",
   "name": "python",
   "nbconvert_exporter": "python",
   "pygments_lexer": "ipython3",
   "version": "3.7.6"
  }
 },
 "nbformat": 4,
 "nbformat_minor": 4
}
